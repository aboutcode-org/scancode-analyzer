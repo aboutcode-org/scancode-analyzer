{
 "cells": [
  {
   "cell_type": "code",
   "execution_count": 1,
   "id": "57a698d9-43ca-4c6c-a6ab-72a0079a33af",
   "metadata": {},
   "outputs": [],
   "source": [
    "import io\n",
    "from os import path\n",
    "from os import walk"
   ]
  },
  {
   "cell_type": "code",
   "execution_count": 2,
   "id": "ff215caf-b917-41cf-9ed7-fd7e54756aeb",
   "metadata": {},
   "outputs": [],
   "source": [
    "from packagedcode.debian_copyright import parse_copyright_file"
   ]
  },
  {
   "cell_type": "code",
   "execution_count": 3,
   "id": "49476d28-c983-447c-a98e-e66d2f6a52a9",
   "metadata": {},
   "outputs": [],
   "source": [
    "from scancode_analyzer.license_analyzer import LicenseDetectionIssue\n",
    "from scancode_analyzer.summary import SummaryLicenseIssues\n",
    "\n",
    "from scancode_analyzer.analyzer_plugin import from_license_match_object\n",
    "from scancode_analyzer.analyzer_plugin import ScancodeDataChangedError"
   ]
  },
  {
   "cell_type": "code",
   "execution_count": 4,
   "id": "0af20176-27eb-40df-a6f3-a57b26f10fa2",
   "metadata": {},
   "outputs": [],
   "source": [
    "def relative_walk(dir_path):\n",
    "    \"\"\"\n",
    "    Walk path and yield files paths relative to dir_path.\n",
    "    \"\"\"\n",
    "    for base_dir, _dirs, files in walk(dir_path):\n",
    "        for file_name in files:\n",
    "            if file_name.endswith('.yml'):\n",
    "                continue\n",
    "            file_path = path.join(base_dir, file_name)\n",
    "            file_path = file_path.replace(dir_path, '', 1)\n",
    "            file_path = file_path.strip(path.sep)\n",
    "            yield file_path\n"
   ]
  },
  {
   "cell_type": "code",
   "execution_count": 5,
   "id": "8bc446e5-8e5a-4512-9486-da62f406c304",
   "metadata": {},
   "outputs": [],
   "source": [
    "def get_copyright_files(test_dir_loc):\n",
    "    copyright_files = []\n",
    "    \n",
    "    for test_file in relative_walk(test_dir_loc):\n",
    "        test_loc = path.join(test_dir_loc, test_file)\n",
    "        if test_loc.endswith(\"copyright\"):\n",
    "            copyright_files.append(test_loc)\n",
    "        \n",
    "    return copyright_files"
   ]
  },
  {
   "cell_type": "code",
   "execution_count": 6,
   "id": "fb5e04f4-c0b2-4b45-9db0-961377522374",
   "metadata": {},
   "outputs": [],
   "source": [
    "test_dir_loc = \"path/to/scancode-toolkit/tests/packagedcode/data/debian/copyright/debian-slim-2021-04-07/\""
   ]
  },
  {
   "cell_type": "code",
   "execution_count": 7,
   "id": "6b689a5e-089d-4384-84b1-c9bf212a73b9",
   "metadata": {},
   "outputs": [],
   "source": [
    "copyright_files = get_copyright_files(test_dir_loc)"
   ]
  },
  {
   "cell_type": "code",
   "execution_count": 8,
   "id": "acec9ded-7d3c-4b0b-b93b-08bc3f7bb286",
   "metadata": {},
   "outputs": [
    {
     "data": {
      "text/plain": [
       "85"
      ]
     },
     "execution_count": 8,
     "metadata": {},
     "output_type": "execute_result"
    }
   ],
   "source": [
    "len(copyright_files)"
   ]
  },
  {
   "cell_type": "code",
   "execution_count": 9,
   "id": "eb34b5e6-afb9-41cc-9a96-036adcf92582",
   "metadata": {},
   "outputs": [],
   "source": [
    "structued_license_issues = []\n",
    "unstructued_license_issues = []\n",
    "count_files_with_issues = 0"
   ]
  },
  {
   "cell_type": "code",
   "execution_count": 10,
   "id": "800e3cb6-d379-401c-bce5-123c1457c86b",
   "metadata": {
    "tags": []
   },
   "outputs": [
    {
     "name": "stderr",
     "output_type": "stream",
     "text": [
      "/home/ayan/Desktop/nexB/main_repos/scancode-analyzer/tmp/lib/python3.8/site-packages/cluecode/copyrights.py:3163: FutureWarning: Possible set difference at position 3\n",
      "  remove_tags = re.compile(\n",
      "/home/ayan/Desktop/nexB/main_repos/scancode-analyzer/tmp/lib/python3.8/site-packages/nltk/tag/sequential.py:540: FutureWarning: Possible nested set at position 7\n",
      "  self._regexps = [(re.compile(regexp), tag,) for regexp, tag in regexps]\n"
     ]
    }
   ],
   "source": [
    "for copyright_file in copyright_files:\n",
    "    dc = parse_copyright_file(copyright_file)\n",
    "    license_issues = []\n",
    "\n",
    "    # Unstructured Files\n",
    "    if hasattr(dc, \"license_matches\"):\n",
    "        license_matches = dc.license_matches\n",
    "        license_matches_in_format = from_license_match_object(license_matches)\n",
    "\n",
    "        issues = list(LicenseDetectionIssue.from_license_matches(\n",
    "            license_matches=license_matches_in_format,\n",
    "            is_license_text=False,\n",
    "            is_legal=False,\n",
    "            path=copyright_file,\n",
    "        ))\n",
    "        if issues:\n",
    "            count_files_with_issues+=1\n",
    "            unstructued_license_issues.extend(issues)\n",
    "    \n",
    "    #Structured Files\n",
    "    elif hasattr(dc, \"license_detections\"):\n",
    "        for license_detection in dc.license_detections:\n",
    "            \n",
    "            if not license_detection.license_matches:\n",
    "                continue\n",
    "                \n",
    "            license_matches = license_detection.license_matches\n",
    "            license_matches_in_format = from_license_match_object(license_matches)\n",
    "            \n",
    "            issues = list(LicenseDetectionIssue.from_license_matches(\n",
    "                license_matches=license_matches_in_format,\n",
    "                is_license_text=False,\n",
    "                is_legal=False,\n",
    "                path=copyright_file,\n",
    "            ))\n",
    "            if issues:\n",
    "                count_files_with_issues+=1\n",
    "                structued_license_issues.extend(issues)\n",
    "    \n",
    "    else:\n",
    "        raise Exception"
   ]
  },
  {
   "cell_type": "code",
   "execution_count": 11,
   "id": "1895a52f-657d-4436-b5c6-9d2b4422d8d9",
   "metadata": {},
   "outputs": [
    {
     "data": {
      "text/plain": [
       "81"
      ]
     },
     "execution_count": 11,
     "metadata": {},
     "output_type": "execute_result"
    }
   ],
   "source": [
    "len(structued_license_issues)"
   ]
  },
  {
   "cell_type": "code",
   "execution_count": 12,
   "id": "86318e3c-64c3-4d65-b350-1d5334e0eb64",
   "metadata": {},
   "outputs": [],
   "source": [
    "summary_structured_license = SummaryLicenseIssues.summarize(\n",
    "    license_issues = structued_license_issues,\n",
    "    count_has_license = len(copyright_files),\n",
    "    count_files_with_issues = count_files_with_issues,\n",
    ")"
   ]
  },
  {
   "cell_type": "code",
   "execution_count": 13,
   "id": "2fc59a6b-9a4c-472e-b6b5-55a8231bdcd7",
   "metadata": {},
   "outputs": [
    {
     "data": {
      "text/plain": [
       "133"
      ]
     },
     "execution_count": 13,
     "metadata": {},
     "output_type": "execute_result"
    }
   ],
   "source": [
    "len(unstructued_license_issues)"
   ]
  },
  {
   "cell_type": "code",
   "execution_count": 14,
   "id": "de7d0b05-2bf2-4bff-a165-100a45f1574d",
   "metadata": {},
   "outputs": [],
   "source": [
    "summary_unstructured_license = SummaryLicenseIssues.summarize(\n",
    "    license_issues = unstructued_license_issues,\n",
    "    count_has_license = len(copyright_files),\n",
    "    count_files_with_issues = count_files_with_issues,\n",
    ")"
   ]
  },
  {
   "cell_type": "code",
   "execution_count": 16,
   "id": "ebb38498-232e-4168-93f4-9cde93e8823c",
   "metadata": {},
   "outputs": [],
   "source": [
    "import json\n",
    "\n",
    "\n",
    "def load_json(path):\n",
    "    with open(path, 'r') as file_handler:\n",
    "        data = json.load(file_handler)\n",
    "    return data\n",
    "\n",
    "\n",
    "def write_json(data, path):\n",
    "    with open(path, 'w') as file_handler:\n",
    "        json.dump(data, file_handler, indent=2)\n"
   ]
  },
  {
   "cell_type": "code",
   "execution_count": 17,
   "id": "5642a729-6db2-4174-96b6-07b3a73cedb7",
   "metadata": {},
   "outputs": [],
   "source": [
    "results_json_structured_path = \"path/to/structured_debian_result_summary.json\"\n",
    "results_json_unstructured_path = \"path/to/unstructured_debian_result_summary.json\""
   ]
  },
  {
   "cell_type": "code",
   "execution_count": 18,
   "id": "54c8a396-5a92-46c1-a141-0e2ee0c9830b",
   "metadata": {
    "tags": []
   },
   "outputs": [],
   "source": [
    "write_json(summary_structured_license.to_dict(), results_json_structured_path)"
   ]
  },
  {
   "cell_type": "code",
   "execution_count": 19,
   "id": "75955bc3-0948-4384-ad53-b4477a30677b",
   "metadata": {
    "tags": []
   },
   "outputs": [],
   "source": [
    "write_json(summary_unstructured_license.to_dict(), results_json_unstructured_path)"
   ]
  }
 ],
 "metadata": {
  "kernelspec": {
   "display_name": "Python 3",
   "language": "python",
   "name": "python3"
  },
  "language_info": {
   "codemirror_mode": {
    "name": "ipython",
    "version": 3
   },
   "file_extension": ".py",
   "mimetype": "text/x-python",
   "name": "python",
   "nbconvert_exporter": "python",
   "pygments_lexer": "ipython3",
   "version": "3.8.5"
  }
 },
 "nbformat": 4,
 "nbformat_minor": 5
}
